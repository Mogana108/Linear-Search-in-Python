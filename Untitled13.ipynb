{
  "nbformat": 4,
  "nbformat_minor": 0,
  "metadata": {
    "colab": {
      "name": "Untitled13.ipynb",
      "provenance": []
    },
    "kernelspec": {
      "name": "python3",
      "display_name": "Python 3"
    },
    "language_info": {
      "name": "python"
    }
  },
  "cells": [
    {
      "cell_type": "code",
      "execution_count": null,
      "metadata": {
        "id": "MpHAjkO9aLYA"
      },
      "outputs": [],
      "source": [
        "def linear_Search(list1, n, key):  \n",
        "  \n",
        "    # Searching list1 sequentially  \n",
        "    for i in range(0, n):  \n",
        "        if (list1[i] == key):  \n",
        "            return i  \n",
        "    return -1  \n",
        "  \n",
        "  \n",
        "list1 = [1 ,3, 5, 4, 7, 9]  \n",
        "key = 7  \n",
        "  \n",
        "n = len(list1)  \n",
        "res = linear_Search(list1, n, key)  \n",
        "if(res == -1):  \n",
        "    print(\"Element not found\")  \n",
        "else:  \n",
        "    print(\"Element found at index: \", res)  "
      ]
    }
  ]
}